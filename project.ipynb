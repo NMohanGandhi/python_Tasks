{
 "cells": [
  {
   "cell_type": "code",
   "execution_count": 1,
   "id": "4158b553",
   "metadata": {},
   "outputs": [],
   "source": [
    "import random"
   ]
  },
  {
   "cell_type": "code",
   "execution_count": 2,
   "id": "32c3a5f1",
   "metadata": {},
   "outputs": [],
   "source": [
    "\n",
    "file = open(\"Registration.txt\",\"w\")\n",
    "file.close()\n"
   ]
  },
  {
   "cell_type": "markdown",
   "id": "1723f822",
   "metadata": {},
   "source": [
    "# Gmail Validation"
   ]
  },
  {
   "cell_type": "code",
   "execution_count": 3,
   "id": "fd613165",
   "metadata": {},
   "outputs": [],
   "source": [
    "def mail():\n",
    "    global gmail\n",
    "    gmail = input(\"Enter your email ID:\")\n",
    "    print(len(gmail))\n",
    "    if (len(gmail)>=5 and len(gmail)<=20) and (gmail.index(\".\")-gmail.index(\"@\")>=3) and (gmail[0] not in \"!#$%&'()*+,-./:;<=>?@[\\]^_`{|}~\") and (gmail[0].isdigit() == False):\n",
    "        #print(\"Valid email\")\n",
    "        return True\n",
    "    else:\n",
    "        print(\"Invalid email\")\n",
    "        return False"
   ]
  },
  {
   "cell_type": "code",
   "execution_count": 4,
   "id": "36f29637",
   "metadata": {},
   "outputs": [],
   "source": [
    "#mail()"
   ]
  },
  {
   "cell_type": "markdown",
   "id": "e6d841ac",
   "metadata": {},
   "source": [
    "# password validation"
   ]
  },
  {
   "cell_type": "code",
   "execution_count": 5,
   "id": "071d0674",
   "metadata": {},
   "outputs": [],
   "source": [
    "def password():\n",
    "    global passwod\n",
    "    \n",
    "    passwod = input(\"Enter your valid password :\")\n",
    "    \n",
    "    #print(type(password))\n",
    "    special_char =  \"!#$%&'()*+,-./:;<=>?@[\\]^_`{|}~\"\n",
    "    #print(special_char)\n",
    "    specs = list(special_char)\n",
    "    #print(specs[0])\n",
    "    a,b,c,d=0,0,0,0\n",
    "    #print(a,b,c,d)\n",
    "    for i in passwod:\n",
    "        #print(type(i))\n",
    "        if i.isupper():\n",
    "            a += 1\n",
    "        if i.islower():\n",
    "            b += 1\n",
    "        if i.isdigit():\n",
    "            c += 1\n",
    "        for j in specs:\n",
    "            #print(j)\n",
    "            if j in i:\n",
    "                d += 1\n",
    "    #if (a and b and c and d)>0:\n",
    "        #break\n",
    "    if (5 < len(passwod) <= 15) and ((a and b and c and d) > 0):\n",
    "        #print(\"Valid password\")\n",
    "        return True\n",
    "\n",
    "    else:\n",
    "        print(\"Invalid password\")\n",
    "        return False\n",
    "\n",
    "\n",
    "\n"
   ]
  },
  {
   "cell_type": "code",
   "execution_count": 6,
   "id": "2f467b4e",
   "metadata": {},
   "outputs": [],
   "source": [
    "#password()"
   ]
  },
  {
   "cell_type": "markdown",
   "id": "75b57931",
   "metadata": {},
   "source": [
    "# Registration"
   ]
  },
  {
   "cell_type": "code",
   "execution_count": 7,
   "id": "958b2eac",
   "metadata": {},
   "outputs": [],
   "source": [
    "\n",
    "def Registrationn():\n",
    "    #global flag\n",
    "    if mail() and password():\n",
    "        print(\"valid gmail and password \")\n",
    "        text = {}\n",
    "        file = open('Registration.txt', 'a+')\n",
    "        #print(file)\n",
    "        file.seek(0)\n",
    "        #file.write(\"i can do\")\n",
    "        value = gmail\n",
    "        #print(value, 'mail')\n",
    "        lines = file.readlines()\n",
    "        #print(lines, 'lines')\n",
    "        \n",
    "        if len(lines) != 0:\n",
    "            for line in lines:\n",
    "                #print(line)\n",
    "                if value not in line:\n",
    "                    #print(value)\n",
    "                    text[gmail]=passwod\n",
    "                    file.write(str(text) + \"\\n\")\n",
    "                    file.close()\n",
    "                    \n",
    "                    print(\"you have successfully registered...\")\n",
    "                    print(\"If you want to login to your account\")\n",
    "                    \n",
    "                    print(\"Enter Yes else Enter No \")\n",
    "                    inp = input(\"Enter your choice :\")\n",
    "                    \n",
    "                    if inp == \"Yes\":\n",
    "                        login()\n",
    "                        file.close()\n",
    "                    else:\n",
    "                        print(\"Thanks for choosing us, now you can login whenever neeeded, bye......\")\n",
    "                    \n",
    "                    break\n",
    "            \n",
    "        \n",
    "                    \n",
    "                else:\n",
    "                    print(\"not successfully registered\") \n",
    "                    print(\"This mail already exits\")\n",
    "                    break\n",
    "                  \n",
    "        else:\n",
    "            text[gmail]=passwod\n",
    "            file.write(str(text) + \"\\n\")\n",
    "            file.close()\n",
    "            print(\"you have successfully registered...\")\n",
    "            print(\"If you want to login to your account\")\n",
    "            print(\"Enter Yes else Enter No \")\n",
    "            inp = input(\"Enter your choice :\")\n",
    "            if inp == \"Yes\":\n",
    "                login()\n",
    "                file.close()\n",
    "            else:\n",
    "                print(\"Thanks for choosing us, now you can login whenever neeeded, bye......\")\n",
    "        \n",
    "           "
   ]
  },
  {
   "cell_type": "code",
   "execution_count": 8,
   "id": "b50e12b5",
   "metadata": {},
   "outputs": [],
   "source": [
    "#Registrationn()"
   ]
  },
  {
   "cell_type": "markdown",
   "id": "2a8b1624",
   "metadata": {},
   "source": [
    "# forget_password"
   ]
  },
  {
   "cell_type": "code",
   "execution_count": 9,
   "id": "04546eb6",
   "metadata": {},
   "outputs": [],
   "source": [
    "\n",
    "def forget_pass():\n",
    "    if mail():\n",
    "        file = open('Registration.txt', 'a+')\n",
    "        file.seek(0)\n",
    "        #file.write(\"i can do\")\n",
    "        value = gmail\n",
    "        print(value, 'mail')\n",
    "        lines = file.readlines()\n",
    "        print(lines, 'lines')\n",
    "        dic = {}\n",
    "        for line in lines:\n",
    "            #print(line)\n",
    "            #check = True\n",
    "            #print(type(line))\n",
    "            \n",
    "            data  =  eval(line)\n",
    "            print(data)\n",
    "            #print(type(data))\n",
    "            #data = line\n",
    "            data  = list(data.items())\n",
    "            #print(data)\n",
    "            #print(data[0][0])\n",
    "            \n",
    "            Upper = \"ABCDEFGHIJKLMNOPQRSTUVWXYZ\"\n",
    "            Lower = \"abcdefghijklmnopqrstuvwxyz\"\n",
    "            Numbers = \"0123456789\"\n",
    "            special_char =  \"!@#$%^&*\"\n",
    "            length = 16\n",
    "            \n",
    "            \n",
    "            all = Upper+Lower+Numbers+special_char \n",
    "            random_password = \"\".join(random.sample(all,length))\n",
    "            \n",
    "            if gmail==data[0][0]:\n",
    "                dic[gmail]=random_password\n",
    "                file.write(str(dic[gmail]) + \"\\n\")\n",
    "                #data  = list(dic.items())\n",
    "                print(dic)\n",
    "                print(data[0][1],\"old\")\n",
    "            \n",
    "            \n",
    "    \n",
    "        \n",
    "        #dic[gmail]=random_password\n",
    "        #print(dic,\"NEW\")\n",
    "        #print(type(dic))\n",
    " \n",
    "   \n",
    "    \n",
    "   "
   ]
  },
  {
   "cell_type": "code",
   "execution_count": 10,
   "id": "ab51d02f",
   "metadata": {},
   "outputs": [],
   "source": [
    "#forget_pass()"
   ]
  },
  {
   "cell_type": "markdown",
   "id": "1bb19c4a",
   "metadata": {},
   "source": [
    "# Access the operations¶"
   ]
  },
  {
   "cell_type": "code",
   "execution_count": 11,
   "id": "d6d3a81c",
   "metadata": {},
   "outputs": [
    {
     "data": {
      "text/plain": [
       "'\\nprint(\"Welcome to World popular website Gmail \")\\n\\nprint(\"choose 1 for login , 2 for Registrationn\")\\n\\nuserVal = int(input(\"Enter your choice (1 or 2) :\"))\\n\\nif userVal   == 1:\\n    print(\"You have choosed to login\")\\n    login()\\n    \\n\\nelif userVal   == 2:\\n    print(\"You have choosed to Register\")\\n    Registrationn()\\n    \\nelse:\\n    print(\"Invalid input, kindly enter your choice as either 1 or 2\")\\n'"
      ]
     },
     "execution_count": 11,
     "metadata": {},
     "output_type": "execute_result"
    }
   ],
   "source": [
    "'''\n",
    "print(\"Welcome to World popular website Gmail \")\n",
    "\n",
    "print(\"choose 1 for login , 2 for Registrationn\")\n",
    "\n",
    "userVal = int(input(\"Enter your choice (1 or 2) :\"))\n",
    "\n",
    "if userVal   == 1:\n",
    "    print(\"You have choosed to login\")\n",
    "    login()\n",
    "    \n",
    "\n",
    "elif userVal   == 2:\n",
    "    print(\"You have choosed to Register\")\n",
    "    Registrationn()\n",
    "    \n",
    "else:\n",
    "    print(\"Invalid input, kindly enter your choice as either 1 or 2\")\n",
    "'''"
   ]
  },
  {
   "cell_type": "markdown",
   "id": "81da234c",
   "metadata": {},
   "source": [
    "# Login"
   ]
  },
  {
   "cell_type": "code",
   "execution_count": 12,
   "id": "b1bea340",
   "metadata": {},
   "outputs": [],
   "source": [
    "def login():\n",
    "    global check\n",
    "    check = False\n",
    "    if mail() and password():\n",
    "        print(\"Valid Gmail and password \")\n",
    "        for line in open(\"Registration.txt\",\"r\").readlines():\n",
    "            #print(line)\n",
    "            check = True\n",
    "            #print(type(line))\n",
    "            data  =  eval(line)\n",
    "            print(data)\n",
    "            #print(type(data))\n",
    "            #data = line\n",
    "            data  = list(data.items())\n",
    "            #print(data)\n",
    "            #print(data[0][0])\n",
    "           \n",
    "            if gmail==data[0][0] and passwod==data[0][1]:                \n",
    "                #print(data[0][0])\n",
    "                print(\"login successfully\")\n",
    "            \n",
    "                break\n",
    "                \n",
    "            elif gmail == data[0][0] and passwod != data[0][1]:\n",
    "                print(\"your credentials doest match, Forget password ?? \")\n",
    "            \n",
    "                print(\"--------------------==========--------------------\")\n",
    "                print(\"if yes........... enter Yes else enter No\")\n",
    "                failed_cred = input(\"enter your choice ('Yes/No')\")\n",
    "                \n",
    "                \n",
    "            else:\n",
    "                check = False\n",
    "        \n",
    "        if check == False:\n",
    "            print(\"your/ credentials doest match, if you are a new user kindly register\")\n",
    "            \n",
    "            print(\"--------------------==========--------------------\")\n",
    "            print(\"if yes........... enter Yes else enter No\")\n",
    "            failed_cred = input(\"enter your choice ('Yes/No')\")\n",
    "            \n",
    "            if failed_cred == \"Yes\":\n",
    "                print(\"Create your account now \")\n",
    "                Registrationn()\n",
    "            else:\n",
    "                print(\"Your login credentials are incorrect\")\n",
    "    \n",
    "       \n",
    "    "
   ]
  },
  {
   "cell_type": "code",
   "execution_count": 13,
   "id": "053a8df4",
   "metadata": {},
   "outputs": [],
   "source": [
    "#login()"
   ]
  },
  {
   "cell_type": "code",
   "execution_count": 14,
   "id": "27652078",
   "metadata": {},
   "outputs": [
    {
     "data": {
      "text/plain": [
       "'text = {}\\nfile = open(\\'Registration.txt\\', \\'a+\\')\\n        #print(file)\\nfile.seek(0)\\n        #file.write(\"i can do\")\\nvalue = gmail\\nprint(value, \\'mail\\')\\nlines = file.readlines()\\nprint(lines, \\'lines\\')\\n\\n\\n            #print(type(data))\\n            #data = line\\n\\n\\nfor line in lines:\\n    data  =  eval(line)\\n    print(data)\\n    data  = list(data.items())\\n    print(data[0][1], \"these are info\")\\n\\n\\n '"
      ]
     },
     "execution_count": 14,
     "metadata": {},
     "output_type": "execute_result"
    }
   ],
   "source": [
    "'''text = {}\n",
    "file = open('Registration.txt', 'a+')\n",
    "        #print(file)\n",
    "file.seek(0)\n",
    "        #file.write(\"i can do\")\n",
    "value = gmail\n",
    "print(value, 'mail')\n",
    "lines = file.readlines()\n",
    "print(lines, 'lines')\n",
    "\n",
    "\n",
    "            #print(type(data))\n",
    "            #data = line\n",
    "\n",
    "\n",
    "for line in lines:\n",
    "    data  =  eval(line)\n",
    "    print(data)\n",
    "    data  = list(data.items())\n",
    "    print(data[0][1], \"these are info\")\n",
    "\n",
    "\n",
    " '''       \n",
    "\n"
   ]
  },
  {
   "cell_type": "code",
   "execution_count": null,
   "id": "e514bb60",
   "metadata": {},
   "outputs": [],
   "source": []
  },
  {
   "cell_type": "markdown",
   "id": "3b5abfd5",
   "metadata": {},
   "source": [
    "# Access the operations¶"
   ]
  },
  {
   "cell_type": "code",
   "execution_count": 15,
   "id": "0d05dc6f",
   "metadata": {},
   "outputs": [
    {
     "name": "stdout",
     "output_type": "stream",
     "text": [
      "Welcome to World popular website Gmail \n",
      "choose 1 for login , 2 for Registrationn\n",
      "Enter your number (1:Login) or (2:Registration) :1\n",
      "You have choosed to login\n",
      "Enter your email ID:mowgli@gmail.com\n",
      "16\n",
      "Enter your valid password :Dog@123\n",
      "Valid Gmail and password \n",
      "your/ credentials doest match, if you are a new user kindly register\n",
      "--------------------==========--------------------\n",
      "if yes........... enter Yes else enter No\n",
      "enter your choice ('Yes/No')Yes\n",
      "Create your account now \n",
      "Enter your email ID:mowgli@gmail.com\n",
      "16\n",
      "Enter your valid password :Dog@123\n",
      "valid gmail and password \n",
      "you have successfully registered...\n",
      "If you want to login to your account\n",
      "Enter Yes else Enter No \n",
      "Enter your choice :1\n",
      "Thanks for choosing us, now you can login whenever neeeded, bye......\n"
     ]
    }
   ],
   "source": [
    "print(\"Welcome to World popular website Gmail \")\n",
    "\n",
    "print(\"choose 1 for login , 2 for Registrationn\")\n",
    "\n",
    "userVal = int(input(\"Enter your number (1:Login) or (2:Registration) :\"))\n",
    "\n",
    "if userVal   == 1:\n",
    "    print(\"You have choosed to login\")\n",
    "    login()\n",
    "    \n",
    "\n",
    "elif userVal   == 2:\n",
    "    print(\"You have choosed to Register\")\n",
    "    Registrationn()\n",
    "    \n",
    "else:\n",
    "    print(\"Invalid input, kindly enter your choice as either 1 or 2\")\n"
   ]
  },
  {
   "cell_type": "code",
   "execution_count": null,
   "id": "d7ba3dae",
   "metadata": {},
   "outputs": [],
   "source": []
  },
  {
   "cell_type": "code",
   "execution_count": null,
   "id": "74748ee3",
   "metadata": {},
   "outputs": [],
   "source": []
  }
 ],
 "metadata": {
  "kernelspec": {
   "display_name": "Python 3 (ipykernel)",
   "language": "python",
   "name": "python3"
  },
  "language_info": {
   "codemirror_mode": {
    "name": "ipython",
    "version": 3
   },
   "file_extension": ".py",
   "mimetype": "text/x-python",
   "name": "python",
   "nbconvert_exporter": "python",
   "pygments_lexer": "ipython3",
   "version": "3.11.2"
  }
 },
 "nbformat": 4,
 "nbformat_minor": 5
}
